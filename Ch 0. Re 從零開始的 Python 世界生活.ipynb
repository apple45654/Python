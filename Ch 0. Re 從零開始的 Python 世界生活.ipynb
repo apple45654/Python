{
 "cells": [
  {
   "cell_type": "markdown",
   "id": "4582529d",
   "metadata": {},
   "source": [
    "# 從零開始的 Python 世界生活\n",
    "### 希望為自己留下些什麼 所以就來新增 github 內容\n",
    "### 另一方面希望未來有機會教學相長，這些筆記能發揮作用"
   ]
  },
  {
   "cell_type": "markdown",
   "id": "af1a5923",
   "metadata": {},
   "source": [
    "# 環境建置\n",
    "\n",
    "##  建置虛擬環境 - virtualenv"
   ]
  },
  {
   "cell_type": "code",
   "execution_count": null,
   "id": "2352fbe6",
   "metadata": {},
   "outputs": [],
   "source": [
    "# 方法一 使用 virtualenv 套件\n",
    "# step1 安裝 virtualenv 套件 : pip install virtualenv\n",
    "# step2 新增一個新的資料夾 : project_name ( 可依習慣另外統一放到某一目錄下 e.g. ~/git/project_name )\n",
    "# step3 cd 到專案資料夾 project_name下，然後建立虛擬環境 : virtualenv -p \\\"/path to your Python35 directory/python.exe\\\" mlenv\n",
    "# step4 啟用虛擬環境: cd mlenv/Scripts，然後輸入 activate.bat\n",
    "\n",
    "\n",
    "# 可用 pip list 查看所有目前下載過的套件\n",
    "# 可利用已知需求檔批次安裝套件，如下\n",
    "# step1 cd 至專案資料夾 project_name\n",
    "# step2 開啟虛擬環境\n",
    "# step3 pip install -r requirement.txt (注意 requirement.txt檔也要放在專案資料夾 project_name 下)\n",
    "# 列出被安裝過的 python 模組跟其版本，並輸出成 requirement.txt\n",
    "#     pip freeze > requirement.txt\n"
   ]
  },
  {
   "cell_type": "markdown",
   "id": "88653490",
   "metadata": {},
   "source": [
    "## 建置虛擬環境 venv"
   ]
  },
  {
   "cell_type": "code",
   "execution_count": null,
   "id": "09af6ab9",
   "metadata": {},
   "outputs": [],
   "source": [
    "# 方法二 內建 venv (個人推薦，Python 需 v3.3 之後才有)\n",
    "# step1. 在 local 建立虛擬環境\n",
    "#     python3 -m venv ~/venv/<<project_name>>\n",
    "# step2. git clone 需要的 project (若為自建專案，就是在該專案底下)\n",
    "#     git clone << project_https >>\n",
    "# step3. cd 到 project 內 or 在 VS Code 新增連結資料夾\n",
    "#     cd << project_name >>\n",
    "# step4. 進入虛擬環境\n",
    "#     source << venv_path >>/bin/activate\n",
    "#     example:  source /home/david/venv/ttc-api/bin/activate\n",
    "# step5. 在虛擬環境安裝所需套件，可用批量方式進行，此時須建立 requirements.txt 文件檔，裡面內容為套件與套件版本號，若遇版本不合，需另外安裝\n",
    "#     pip install -r requirements.txt\n"
   ]
  },
  {
   "cell_type": "markdown",
   "id": "3d5bfbfc",
   "metadata": {},
   "source": [
    "## 使用 anaconda 軟體"
   ]
  },
  {
   "cell_type": "code",
   "execution_count": null,
   "id": "f2e47538",
   "metadata": {},
   "outputs": [],
   "source": [
    "# step1 下載 anaconda  : https://www.anaconda.com/products/individual\n",
    "# step2 開啟搜尋視窗，搜尋 Anaconda Navigator，並點開它\n",
    "# stpe3 點選 Environments 並按下 Creat 按鈕，輸入環境名稱與所需 python 版本\n",
    "# step4 點選環境上的綠色箭頭，點選 open terminal，打開 cmd 模式\n",
    "\n",
    "# 也可在 (base) 環境下直接創建虛擬環境 : conda create -n 虛擬環境名稱 python=版本 anaconda\n",
    "# 指令最後的 anaconda 代表建立時會同時安裝其他預設模組"
   ]
  },
  {
   "cell_type": "markdown",
   "id": "582c1563",
   "metadata": {},
   "source": [
    "## 使用 pycharm"
   ]
  },
  {
   "cell_type": "code",
   "execution_count": null,
   "id": "b8cfa726",
   "metadata": {},
   "outputs": [],
   "source": [
    "# step1 下載 pycharm : https://www.jetbrains.com/pycharm/\n",
    "# step2 創造新專案"
   ]
  },
  {
   "cell_type": "markdown",
   "id": "95c28c07",
   "metadata": {},
   "source": [
    "## 使用雲端環境 repl"
   ]
  },
  {
   "cell_type": "code",
   "execution_count": null,
   "id": "3f67fa4c",
   "metadata": {},
   "outputs": [],
   "source": [
    "# 打開瀏覽器輸入 : https://replit.com/"
   ]
  },
  {
   "cell_type": "code",
   "execution_count": null,
   "id": "f5aaebea",
   "metadata": {},
   "outputs": [],
   "source": []
  }
 ],
 "metadata": {
  "kernelspec": {
   "display_name": "Python 3 (ipykernel)",
   "language": "python",
   "name": "python3"
  },
  "language_info": {
   "codemirror_mode": {
    "name": "ipython",
    "version": 3
   },
   "file_extension": ".py",
   "mimetype": "text/x-python",
   "name": "python",
   "nbconvert_exporter": "python",
   "pygments_lexer": "ipython3",
   "version": "3.9.12"
  }
 },
 "nbformat": 4,
 "nbformat_minor": 5
}
