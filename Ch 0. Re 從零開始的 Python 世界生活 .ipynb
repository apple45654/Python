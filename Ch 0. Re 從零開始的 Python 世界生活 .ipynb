{
 "cells": [
  {
   "cell_type": "markdown",
   "id": "4582529d",
   "metadata": {},
   "source": [
    "# 從零開始的 Python 世界生活\n",
    "### 希望為自己留下些什麼 所以就來新增 github 內容\n",
    "### 另一方面希望未來有機會教學相長，這些筆記能發揮作用"
   ]
  },
  {
   "cell_type": "code",
   "execution_count": null,
   "id": "64791eab",
   "metadata": {},
   "outputs": [],
   "source": []
  }
 ],
 "metadata": {
  "kernelspec": {
   "display_name": "Python 3 (ipykernel)",
   "language": "python",
   "name": "python3"
  },
  "language_info": {
   "codemirror_mode": {
    "name": "ipython",
    "version": 3
   },
   "file_extension": ".py",
   "mimetype": "text/x-python",
   "name": "python",
   "nbconvert_exporter": "python",
   "pygments_lexer": "ipython3",
   "version": "3.9.12"
  }
 },
 "nbformat": 4,
 "nbformat_minor": 5
}
